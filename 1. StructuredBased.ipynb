{
 "cells": [
  {
   "cell_type": "markdown",
   "metadata": {},
   "source": [
    "# Perluasan Berbasis Struktur\n",
    "\n",
    "* Menyaring Dataset Tidak Berlabel yang Tidak Memiliki Opini pada Fitur\n",
    "* Menggunakan Rule Opini pada Postag"
   ]
  },
  {
   "cell_type": "code",
   "execution_count": 2,
   "metadata": {},
   "outputs": [],
   "source": [
    "import pandas as pd\n",
    "import nltk \n",
    "from nltk.tokenize import word_tokenize"
   ]
  },
  {
   "cell_type": "markdown",
   "metadata": {},
   "source": [
    "# Fungsi Proses Trigram\n",
    "\n",
    "* mencari opini fitur dalam susunan 3 kata berurutan"
   ]
  },
  {
   "cell_type": "code",
   "execution_count": 1,
   "metadata": {},
   "outputs": [],
   "source": [
    "def processtrigram(sentence):\n",
    "    wr = []\n",
    "    st = []\n",
    "    for (w1,t1), (w2,t2), (w3,t3) in nltk.trigrams(sentence):\n",
    "        if ((t1.startswith('N') and t2.startswith('V') and t3.startswith('J')) and len(w2)<4):\n",
    "            st = w1,w2,w3\n",
    "            wr.append(st)\n",
    "            #print(w1, w2, w3)\n",
    "    return wr"
   ]
  },
  {
   "cell_type": "markdown",
   "metadata": {},
   "source": [
    "# Fungsi Proses Brigram\n",
    "\n",
    "* mencari opini fitur dalam susunan 2 kata berurutan"
   ]
  },
  {
   "cell_type": "code",
   "execution_count": 3,
   "metadata": {},
   "outputs": [],
   "source": [
    "def processbigram(sentence):\n",
    "    wr = []\n",
    "    st = []\n",
    "    for (w1,t1), (w2,t2) in nltk.bigrams(sentence):\n",
    "        if (t1.startswith('J') and t2.startswith('N')) or (t1.startswith('N') and t2.startswith('J')) :\n",
    "            st = w1,w2\n",
    "            wr.append(st)\n",
    "            #print(w1, w2)\n",
    "    return wr "
   ]
  },
  {
   "cell_type": "markdown",
   "metadata": {},
   "source": [
    "# Data Input \n",
    "\n",
    "* Dataset Tidak Berlabel\n",
    "* Data ID Produk (Guna Mengelompokkan Review per Produk)"
   ]
  },
  {
   "cell_type": "code",
   "execution_count": 5,
   "metadata": {},
   "outputs": [],
   "source": [
    "datareview=pd.read_csv('Data/review_data.csv', sep=',', encoding='latin-1') #data review dari 201 produk\n",
    "productid =pd.read_csv('Data/productid.csv', sep=',', encoding='latin-1') #data id produk\n",
    "review = datareview['Body']"
   ]
  },
  {
   "cell_type": "markdown",
   "metadata": {},
   "source": [
    "# Dict per Produk \n"
   ]
  },
  {
   "cell_type": "code",
   "execution_count": null,
   "metadata": {},
   "outputs": [],
   "source": [
    "productrev=[]\n",
    "temp=[]\n",
    "review=dict()\n",
    "for j in range(len(datareview)):\n",
    "    for i in productid['ProductID']:\n",
    "        if i==datareview['ProductID'][j]:\n",
    "            temp = datareview['Brand'][j],datareview['Body'][j]\n",
    "            if i not in review:\n",
    "                review[i] = []\n",
    "            if temp not in review[i]:\n",
    "                review[i].append(temp)"
   ]
  },
  {
   "cell_type": "markdown",
   "metadata": {},
   "source": [
    "# Algoritma Perluasan Berbasis Struktur\n",
    "\n",
    "* Mengecek fitur opini per kalimat review pada suatu produk "
   ]
  },
  {
   "cell_type": "code",
   "execution_count": 10,
   "metadata": {},
   "outputs": [],
   "source": [
    "# using the in operator \n",
    "count = 0\n",
    "for x in review: \n",
    "    if isinstance(review[x], list): \n",
    "        count += len(review[x]) "
   ]
  },
  {
   "cell_type": "code",
   "execution_count": null,
   "metadata": {},
   "outputs": [],
   "source": [
    "import re\n",
    "import string\n",
    "\n",
    "no_opini={} #opini pada review yang produknya tidak memiliki frequent feature \n",
    "opini={}\n",
    "pr={}\n",
    "count1=0\n",
    "temp=0\n",
    "st=[]\n",
    "st_pos=[]\n",
    "st_fpos=[]\n",
    "nst=[]\n",
    "nst_pos=[]\n",
    "nst_fpos=[]\n",
    "\n",
    "# evaluasi per kalimat \n",
    "for product in review:\n",
    "    for i in review[product]:\n",
    "        temp+=1\n",
    "        lis=[]\n",
    "        if temp<=count:\n",
    "            lis=i[1].replace(\"the \", \" \")\n",
    "            lis=lis.replace(\"to \", \" \")\n",
    "            lis=lis.replace(\"etc)\", \" \")\n",
    "            lis=lis.lower()\n",
    "            sentences = re.split(r'(?<!\\w\\.\\w.)(?<![A-Z][a-z]\\.)(?<=\\.|\\?)\\s',lis)    # memisahkan kalimat dalam satu review\n",
    "            text1 = [nltk.pos_tag(j.split()) for j in sentences]    # postag dalam kalimat review\n",
    "            tmp=0\n",
    "            p=[]\n",
    "            for k in text1:\n",
    "                if (len(k)>5):\n",
    "                    tri = processtrigram(k)     # mengecek fitur opini pada trigram dalam kalimat\n",
    "                    bi = processbigram(k)       # mengecek fitur opini pada bigram dalam kalimat\n",
    "                    pi=bi,tri\n",
    "                    p.append(pi)                # isi opini\n",
    "                    if (not bi) & (not tri):    # menandai jika kalimat tidak mengandung opini\n",
    "                        tmp+=1\n",
    "            if product not in pr:\n",
    "                pr[product] = []           \n",
    "            pr[product].append(p)\n",
    "            count1+=1\n",
    "            if tmp==len(text1):                 # jika semua kalimat dalam review tidak mengandung tag rule opini\n",
    "                if product not in no_opini: \n",
    "                    no_opini[product] = []\n",
    "                no_opini[product].append(lis)   # menyimpan semua kalimat dalam review 'lis' ; tidak mengandung frase tag filter opini\n",
    "                nst.append(lis)                          # nst digunakan untuk penyimpanan tag kalimat\n",
    "                nst_pos.append(nltk.pos_tag(lis.split()))# isi tag lis\n",
    "                nst_fpos.append(p)                       # isi tag filter opstag (harusnya kosong)\n",
    "            else:                               # kalimatnya mengandung tag rule opini\n",
    "                if product not in opini:\n",
    "                    opini[product] = []\n",
    "                opini[product].append(lis)               \n",
    "                st.append(lis)                  # st digunakan untuk penyimpanan tag kalimat beropini\n",
    "                st_pos.append(nltk.pos_tag(lis.split()))\n",
    "                st_fpos.append(p)\n",
    "                print(i[1])\n",
    "                print(lis)\n",
    "                print(text1)\n",
    "                print(p)\n",
    "        else:\n",
    "            break"
   ]
  },
  {
   "cell_type": "markdown",
   "metadata": {},
   "source": [
    "Menyimpan data hasil perluasan"
   ]
  },
  {
   "cell_type": "code",
   "execution_count": null,
   "metadata": {},
   "outputs": [],
   "source": [
    "non_op=pd.DataFrame(columns = [\"Review\", \"Postag\", \"Filter_Postag\"])\n",
    "op=pd.DataFrame(columns = [\"Review\", \"Postag\", \"Filter_Postag\"])\n",
    "\n",
    "non_op['Review']=nst\n",
    "non_op['Postag']=nst_pos\n",
    "non_op['Filter_Postag']=nst_fpos\n",
    "\n",
    "op['Review']=st\n",
    "op['Postag']=st_pos\n",
    "op['Filter_Postag']=st_fpos\n",
    "\n",
    "non_op.to_csv('Data/Output/1. Preprocessing/Tag/non_pos.csv', index=False) # menyimpan review yang tidak memiliki fule opini\n",
    "#op.to_csv('Data/Output/1. Preprocessing/Tag/pos.csv', index=False)         # menyimpan review yang memiliki fule opini\n"
   ]
  },
  {
   "cell_type": "markdown",
   "metadata": {},
   "source": [
    " pengecekan jumlah"
   ]
  },
  {
   "cell_type": "code",
   "execution_count": null,
   "metadata": {},
   "outputs": [],
   "source": [
    "countopini=0\n",
    "for product in opini:\n",
    "    for r in opini[product]:\n",
    "        countopini+=1        "
   ]
  },
  {
   "cell_type": "code",
   "execution_count": null,
   "metadata": {},
   "outputs": [],
   "source": [
    "countno=0\n",
    "for product in no_opini:\n",
    "    for r in no_opini[product]:\n",
    "        countno+=1"
   ]
  }
 ],
 "metadata": {
  "kernelspec": {
   "display_name": "Python 3",
   "language": "python",
   "name": "python3"
  },
  "language_info": {
   "codemirror_mode": {
    "name": "ipython",
    "version": 3
   },
   "file_extension": ".py",
   "mimetype": "text/x-python",
   "name": "python",
   "nbconvert_exporter": "python",
   "pygments_lexer": "ipython3",
   "version": "3.7.0"
  }
 },
 "nbformat": 4,
 "nbformat_minor": 2
}
