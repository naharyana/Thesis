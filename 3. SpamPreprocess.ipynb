{
 "cells": [
  {
   "cell_type": "markdown",
   "metadata": {},
   "source": [
    "# Spam Preprocessing\n",
    "\n",
    "Tahap preposes yang akan dilakukan yaitu : Penghapusan simbol, link, kata-kata yang berulang, stop Word, dan Tokenisasi"
   ]
  },
  {
   "cell_type": "code",
   "execution_count": 1,
   "metadata": {},
   "outputs": [],
   "source": [
    "import pandas as pd\n",
    "from nltk.corpus import stopwords"
   ]
  },
  {
   "cell_type": "markdown",
   "metadata": {},
   "source": [
    "# Fungsi Tokenisasi\n",
    "\n",
    "* melakukan pemisahan kalimat menjadi list token kata\n",
    "* menggunakan library nltk"
   ]
  },
  {
   "cell_type": "code",
   "execution_count": 2,
   "metadata": {},
   "outputs": [],
   "source": [
    "def tokenization(stem_text):\n",
    "    from nltk.tokenize import word_tokenize\n",
    "    tokens = word_tokenize(str(stem_text))\n",
    "    print(tokens)\n",
    "    return tokens"
   ]
  },
  {
   "cell_type": "markdown",
   "metadata": {},
   "source": [
    "# Fungsi Penghapusan Stopword\n",
    "\n",
    "* melakukan penghapusan kata-kata yang termasuk stopword (kata umum yang sering muncul dan tidak memiliki makna, cont. 'the', that)"
   ]
  },
  {
   "cell_type": "code",
   "execution_count": 4,
   "metadata": {},
   "outputs": [],
   "source": [
    "def stopword_removal(tokenized):\n",
    "    clean = []\n",
    "    for i in tokenized:\n",
    "        if i not in stopwords.words('english'):\n",
    "            clean.append(i)\n",
    "    return clean"
   ]
  },
  {
   "cell_type": "markdown",
   "metadata": {},
   "source": [
    "# Fungsi Preproses\n",
    "\n",
    "* penggabungan penghapusan simbol/link/kata yang tidak diinginkan, penghapusan stopword, dan tokenisasi"
   ]
  },
  {
   "cell_type": "code",
   "execution_count": 5,
   "metadata": {},
   "outputs": [],
   "source": [
    "def preprocess (text):\n",
    "    text = text.str.lower()\n",
    "    text = text.str.replace(r\"htt\\S+|pic\\.\\S+|pict\\S+|www\\S+|t\\.\\S+|bit\\.\\S+|goo\\.\\S+\", \" \") # remove http, https, pic, \n",
    "    text = text.str.replace(r\"[^a-z]\",\" \") # remove non alphabetic\n",
    "    text = text.str.replace(r\"not\\s+\", \"not_\")\n",
    "    text = text.str.replace(r\"(.)\\1{2,}\", r\"\\1\") # replace 3 repeated character in words into 1 character\n",
    "    text = text.str.replace(r\"(^| ).(( ).)*( |$)\",\" \") # remove 1 standalone character\n",
    "    text = text.str.replace(r\"\\s\\s+\",\" \") # remove multi space after regex\n",
    "    text = text.str.lstrip()\n",
    "    print(text.tail()) # preview data\n",
    "    text = text.apply(tokenization) #tokenisasi\n",
    "    text = text.apply(stopword_removal) #stopword removal\n",
    "    return text"
   ]
  },
  {
   "cell_type": "markdown",
   "metadata": {},
   "source": [
    "Preprocessing ini dilakukan pada data *Spam tipe 1*, *Spam tipe 3*, *Data dari Perluasan Berbasis Struktur* yang hasil akhirnya yang berupa toke akan digunakan untuk Proses Perluasan Berbasis Topik yang melibatkan Pemodelan Topik \n"
   ]
  },
  {
   "cell_type": "markdown",
   "metadata": {},
   "source": [
    "* Spam Tipe 3"
   ]
  },
  {
   "cell_type": "code",
   "execution_count": null,
   "metadata": {},
   "outputs": [],
   "source": [
    "data1 = pd.read_csv('Data/train_spam1 - juli.csv', sep=',', encoding='latin-1')\n",
    "data1['clean']= preprocess(data1['Body'])\n",
    "data1['clean'].to_csv(('Data/Output/1. Preprocessing/amz_spam1_token_ag.csv'),header = 'clean', index=False)\n"
   ]
  },
  {
   "cell_type": "markdown",
   "metadata": {},
   "source": [
    "* Spam Tipe 1"
   ]
  },
  {
   "cell_type": "code",
   "execution_count": null,
   "metadata": {},
   "outputs": [],
   "source": [
    "#data3 = pd.read_csv('Data/train_data - juli.csv', sep=',', encoding='latin-1') \n",
    "#data3['clean']= preprocess(data2['Body'])\n",
    "#data3['clean'].to_csv(('Data/Output/1. Preprocessing/amz_spam23_token_ag.csv'),header = 'clean', index=False)"
   ]
  },
  {
   "cell_type": "markdown",
   "metadata": {},
   "source": [
    "* Dataset dari StructuredBased.py"
   ]
  },
  {
   "cell_type": "code",
   "execution_count": 6,
   "metadata": {},
   "outputs": [],
   "source": [
    "#data4 = pd.read_csv('Data/Output/1. Preprocessing/Tag/non_pos.csv', sep=',', encoding='latin-1') #Data Perluasan Berbasis Struktur\n",
    "#data4['clean']= preprocess(data3['Review'])\n",
    "#data4['clean'].to_csv(('Data/Output/1. Preprocessing/amz_spam3_token_ag.csv'),header = 'clean', index=False)"
   ]
  },
  {
   "cell_type": "markdown",
   "metadata": {},
   "source": [
    "* Data dari StructuredBasedResult.py"
   ]
  },
  {
   "cell_type": "code",
   "execution_count": 8,
   "metadata": {},
   "outputs": [],
   "source": [
    "#data5 = pd.read_csv('Data/Output/1. Preprocessing/amz_end_prep_ag.csv', sep=',', encoding='latin-1') # Spam Tipe 3 + Data Perluasan Berbasis Struktur \n",
    "#data5['clean']= preprocess(data4['clean'])\n",
    "#data6['clean'].to_csv(('Data/Output/1. Preprocessing/amz_spam323_token_ag.csv'),header = 'clean', index=False)"
   ]
  },
  {
   "cell_type": "code",
   "execution_count": null,
   "metadata": {},
   "outputs": [],
   "source": []
  }
 ],
 "metadata": {
  "kernelspec": {
   "display_name": "Python 3",
   "language": "python",
   "name": "python3"
  },
  "language_info": {
   "codemirror_mode": {
    "name": "ipython",
    "version": 3
   },
   "file_extension": ".py",
   "mimetype": "text/x-python",
   "name": "python",
   "nbconvert_exporter": "python",
   "pygments_lexer": "ipython3",
   "version": "3.7.0"
  }
 },
 "nbformat": 4,
 "nbformat_minor": 2
}
